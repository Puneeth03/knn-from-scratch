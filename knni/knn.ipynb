{
 "cells": [
  {
   "attachments": {},
   "cell_type": "markdown",
   "metadata": {},
   "source": [
    "Importing dependencies"
   ]
  },
  {
   "cell_type": "code",
   "execution_count": 1,
   "metadata": {},
   "outputs": [],
   "source": [
    "import numpy as np\n",
    "import matplotlib.pyplot as plt\n",
    "from sklearn.preprocessing import MinMaxScaler\n"
   ]
  },
  {
   "attachments": {},
   "cell_type": "markdown",
   "metadata": {},
   "source": [
    "loading dataset to numpy array"
   ]
  },
  {
   "cell_type": "code",
   "execution_count": 2,
   "metadata": {},
   "outputs": [],
   "source": [
    "data = np.loadtxt(r\"haberman.data\",delimiter=\",\", dtype=float)\n",
    "# data"
   ]
  },
  {
   "attachments": {},
   "cell_type": "markdown",
   "metadata": {},
   "source": [
    "preprocessing\n",
    "standardisation of data within the range (0,1) and deleting the 2nd column of data as said in question"
   ]
  },
  {
   "cell_type": "code",
   "execution_count": 3,
   "metadata": {},
   "outputs": [],
   "source": [
    "scaled_data = MinMaxScaler()\n",
    "data_x = scaled_data.fit_transform(data[:,:-1])\n",
    "data_x = np.delete(data_x, 1, axis =1)"
   ]
  },
  {
   "attachments": {},
   "cell_type": "markdown",
   "metadata": {},
   "source": [
    "Function that implements knn(k=5)"
   ]
  },
  {
   "cell_type": "code",
   "execution_count": 4,
   "metadata": {},
   "outputs": [
    {
     "data": {
      "text/plain": [
       "[1.0,\n",
       " 2.0,\n",
       " 1.0,\n",
       " 1.0,\n",
       " 2.0,\n",
       " 1.0,\n",
       " 1.0,\n",
       " 1.0,\n",
       " 1.0,\n",
       " 1.0,\n",
       " 1.0,\n",
       " 1.0,\n",
       " 1.0,\n",
       " 1.0,\n",
       " 1.0,\n",
       " 1.0,\n",
       " 1.0,\n",
       " 1.0,\n",
       " 1.0,\n",
       " 1.0]"
      ]
     },
     "execution_count": 4,
     "metadata": {},
     "output_type": "execute_result"
    }
   ],
   "source": [
    "x, y = data_x, data[:,-1]\n",
    "#loading the data as features and target classes\n",
    "l=len(x)\n",
    "\n",
    "y_pred, y_true = list(), list()     #true labels and predicted labels\n",
    "\n",
    "x_train, x_test = x[:l-20, :], x[l-20:, :]      #feature data columns\n",
    "y_train, y_test = y[:l-20], y[l-20:]            #labels\n",
    "\n",
    "for i in range(len(x_test)):\n",
    "    distances = np.array([])        #distances calculated to classify for test\n",
    "    dist = (x_train[:,0]-x_test[i][0])**2 + (x_train[:,1]-x_test[i][1])**2\n",
    "    distances = (np.append(distances, np.sqrt(dist)))\n",
    "    idx = np.argsort(distances)\n",
    "    distances = distances[idx]      #indexes of sorted by distances\n",
    "\n",
    "    class1, class2 = 0, 0\n",
    "    for j in idx[0:5]:      #selecting only k-nearest distances/points\n",
    "        if y_train[j] == 1.0:\n",
    "            class1 += 1     #no. of points those belong to class 1\n",
    "        else:\n",
    "            class2 += 1     #no. of points those belong to class 2\n",
    "    if class1 > class2:\n",
    "        y_pred.append(1.)\n",
    "        y_true.append(y_test[i])\n",
    "    else:\n",
    "        y_pred.append(2.)\n",
    "        y_true.append(y_test[i])\n",
    "y_pred"
   ]
  },
  {
   "attachments": {},
   "cell_type": "markdown",
   "metadata": {},
   "source": [
    "Leave one out cross validation function"
   ]
  },
  {
   "cell_type": "code",
   "execution_count": 5,
   "metadata": {},
   "outputs": [],
   "source": [
    "x, y = data_x, data[:,-1]\n",
    "#loading the data as features and target classes\n",
    "\n",
    "#defining the leave one out cross validation function\n",
    "def cross_vad_loo(x,y):\n",
    "    acc = list()    #list to store accuracies\n",
    "\n",
    "    for k in range(1,min(100, len(x)),2):   #loop over the different values of k\n",
    "        y_pred, y_true = list(), list()     #true labels and predicted labels\n",
    "        ix = np.array([*range(0,len(x),1)]) #index labels to perform the loo for different tests\n",
    "\n",
    "        for i in range(len(x)):             #loop over different tests (306 different test cases assuming each entry is a test case in different instance)\n",
    "            test_ix = ix[i]                 #test indices\n",
    "            train_ix = np.delete(ix, i)     #train indices\n",
    "\n",
    "            x_train, x_test = x[train_ix, :], [x[test_ix, :]]       #feature data columns\n",
    "            y_train, y_test = y[train_ix], [y[test_ix]]             #labels\n",
    "\n",
    "            for i in range(len(x_test)):\n",
    "                distances = np.array([])        #distances calculated to classify for test\n",
    "                dist = (x_train[:,0]-x_test[i][0])**2 + (x_train[:,1]-x_test[i][1])**2\n",
    "                distances = (np.append(distances, np.sqrt(dist)))\n",
    "                idx = np.argsort(distances)\n",
    "                distances = distances[idx]      #indexes of sorted by distances\n",
    "\n",
    "                class1, class2 = 0, 0\n",
    "                for j in idx[0:k]:      #selecting only k-nearest distances/points\n",
    "                    if y_train[j] == 1.0:\n",
    "                        class1 += 1     #no. of points those belong to class 1\n",
    "                    else:\n",
    "                        class2 += 1     #no. of points those belong to class 2\n",
    "                if class1 > class2:\n",
    "                    y_pred.append(1.)\n",
    "                    y_true.append(y_test[i])\n",
    "                else:\n",
    "                    y_pred.append(2.)\n",
    "                    y_true.append(y_test[i])\n",
    "        y_true = np.array(y_true)\n",
    "        y_pred = np.array(y_pred)\n",
    "        \n",
    "        #appending accuracies for k in terms of error\n",
    "        acc.append([round(np.sum(np.power(np.subtract(y_true, y_pred),2))/len(x), 13), k])\n",
    "    return acc"
   ]
  },
  {
   "attachments": {},
   "cell_type": "markdown",
   "metadata": {},
   "source": [
    "Calling leaveoneout cross validation on dataset to find the optimal 'k' and minimum error"
   ]
  },
  {
   "cell_type": "code",
   "execution_count": 6,
   "metadata": {},
   "outputs": [
    {
     "name": "stdout",
     "output_type": "stream",
     "text": [
      "[0.2254901960784, 47]\n"
     ]
    }
   ],
   "source": [
    "acc = cross_vad_loo(x,y)    #returned list with accuracies for k (1,100,2)\n",
    "k_min = min(acc)[1]         #value of k for least error occured\n",
    "print(min(acc))"
   ]
  },
  {
   "attachments": {},
   "cell_type": "markdown",
   "metadata": {},
   "source": [
    "Plotting 'k' vs error"
   ]
  },
  {
   "cell_type": "code",
   "execution_count": 7,
   "metadata": {},
   "outputs": [
    {
     "data": {
      "text/plain": [
       "[<matplotlib.lines.Line2D at 0x1aa28fcfe50>]"
      ]
     },
     "execution_count": 7,
     "metadata": {},
     "output_type": "execute_result"
    },
    {
     "data": {
      "image/png": "[encoded data removed]",
      "text/plain": [
       "<Figure size 640x480 with 1 Axes>"
      ]
     },
     "metadata": {},
     "output_type": "display_data"
    }
   ],
   "source": [
    "x,y = np.array(acc).T       #plotting the values of error vs k\n",
    "plt.plot(y,x,linestyle='dotted', marker='+', color='b')"
   ]
  },
  {
   "attachments": {},
   "cell_type": "markdown",
   "metadata": {},
   "source": [
    "Drawing decision boundary for optimal k "
   ]
  },
  {
   "cell_type": "code",
   "execution_count": 8,
   "metadata": {},
   "outputs": [],
   "source": [
    "#defining the function that gives the points to draw the decision boundary for given k\n",
    "#for the sample data points we have created we will classify them as class 1 or class 2 and then use different markers to plot them\n",
    "def des_bound(x_train,y_train,x_test_x, x_test_y):\n",
    "    y_pred = list()\n",
    "    for i in range(len(x_test_x)):\n",
    "\n",
    "        distances = np.array([])\n",
    "        dist = (x_train[:,0]-x_test_x[i])**2 + (x_train[:,1]-x_test_y[i])**2\n",
    "        distances = (np.append(distances, np.sqrt(dist)))\n",
    "        idx = np.argsort(distances)\n",
    "        distances = distances[idx]\n",
    "\n",
    "        class1, class2 = 0, 0\n",
    "        for j in idx[0:k_min]:\n",
    "            if y_train[j] == 1.0:\n",
    "                class1 += 1\n",
    "            else:\n",
    "                class2 += 1\n",
    "        if class1 > class2:\n",
    "            y_pred.append(1)\n",
    "        else:\n",
    "            y_pred.append(2)\n",
    "    return y_pred           #returning the predicted class for data points\n"
   ]
  },
  {
   "cell_type": "code",
   "execution_count": 9,
   "metadata": {},
   "outputs": [
    {
     "data": {
      "text/plain": [
       "<matplotlib.collections.PathCollection at 0x1aa2b2e31c0>"
      ]
     },
     "execution_count": 9,
     "metadata": {},
     "output_type": "execute_result"
    },
    {
     "data": {
      "image/png": "[encoded data removed]",
      "text/plain": [
       "<Figure size 640x480 with 1 Axes>"
      ]
     },
     "metadata": {},
     "output_type": "display_data"
    }
   ],
   "source": [
    "#creating the data points to show the decision boundary (2500 points between (0,0) and (1,1))\n",
    "test_points_x = list()\n",
    "test_points_y = list()\n",
    "for i in range(50):\n",
    "    for j in range(50):\n",
    "        test_points_x.append(i/50)\n",
    "        test_points_y.append(j/50)    \n",
    "\n",
    "points = des_bound(data_x,data[:,-1],test_points_x,test_points_y)       #des_bound called for created points\n",
    "\n",
    "xi1, zi1 = list(), list()                       #co-ordinates of class 1\n",
    "xi2, zi2 = list(), list()                       #co-ordinates of class 2\n",
    "\n",
    "for i in range(len(test_points_x)):             #appending the co-ordinates\n",
    "    if(points[i]==1):\n",
    "        xi1.append(test_points_x[i])\n",
    "        zi1.append(test_points_y[i])\n",
    "    else:\n",
    "        xi2.append(test_points_x[i])\n",
    "        zi2.append(test_points_y[i])\n",
    "\n",
    "plt.scatter(xi1, zi1, marker='+', color='b', )    #plotting class 1 points\n",
    "plt.scatter(xi2, zi2, marker='o', color='g')    #plotting class 2 points\n"
   ]
  },
  {
   "attachments": {},
   "cell_type": "markdown",
   "metadata": {},
   "source": [
    "K-fold cross validation function"
   ]
  },
  {
   "cell_type": "code",
   "execution_count": 10,
   "metadata": {},
   "outputs": [],
   "source": [
    "#defining function validates the test of every fold with its respective train\n",
    "def cross_vad_kfold(x_train,y_train,x_test,y_test):\n",
    "    acc = list()\n",
    "    for k in range(1,100,2):\n",
    "        y_pred, y_true = list(), list()\n",
    "\n",
    "        for i in range(len(x_test)):\n",
    "\n",
    "            distances = np.array([])\n",
    "            dist = (x_train[:,0]-x_test[i][0])**2 + (x_train[:,1]-x_test[i][2])**2\n",
    "            distances = (np.append(distances, np.sqrt(dist)))\n",
    "            idx = np.argsort(distances)\n",
    "            distances = distances[idx]\n",
    "\n",
    "            class1, class2 = 0, 0\n",
    "            for j in idx[0:k]:\n",
    "                if y_train[j] == 1.0:\n",
    "                    class1 += 1\n",
    "                else:\n",
    "                    class2 += 1\n",
    "            if class1 > class2:\n",
    "                y_pred.append(1.)\n",
    "                y_true.append(y_test[i])\n",
    "            else:\n",
    "                y_pred.append(2.)\n",
    "                y_true.append(y_test[i])\n",
    "        y_true = np.array(y_true)\n",
    "        y_pred = np.array(y_pred)\n",
    "        acc.append([round(np.sum(np.power(np.subtract(y_true, y_pred),2))/len(x_train), 15), k])\n",
    "\n",
    "    return acc"
   ]
  },
  {
   "attachments": {},
   "cell_type": "markdown",
   "metadata": {},
   "source": [
    "Performing 5-fold cross validation for every 5th sample taken as test to find optimal k for that fold"
   ]
  },
  {
   "cell_type": "code",
   "execution_count": 11,
   "metadata": {},
   "outputs": [
    {
     "name": "stdout",
     "output_type": "stream",
     "text": [
      "[[0.073770491803279, 13], [0.085714285714286, 9], [0.069387755102041, 11], [0.044897959183673, 13], [0.048979591836735, 11]]\n",
      "True error of all folds:  0.0645500167280028\n"
     ]
    }
   ],
   "source": [
    "kfoldloocv_acc = list()     #list to store accuracies/error of k-folds\n",
    "all_indices = list()        #list to store indices so to create train and test for folds\n",
    "\n",
    "for i in range(5):          #5-fold\n",
    "    test_indices=list()\n",
    "    train_indices=list()\n",
    "\n",
    "    for j in range(len(data)):\n",
    "        if((i+j)%5==0):                 #as instructed in question creating test and train considering every 5th as test \n",
    "            test_indices.append(j)\n",
    "        else:\n",
    "            train_indices.append(j)\n",
    "\n",
    "    all_indices.append(test_indices)\n",
    "    all_indices.append(train_indices)\n",
    "\n",
    "    #accuracies returned for all folds with minimum error for k\n",
    "    kfoldloocv_acc.append(min(cross_vad_kfold(data[train_indices][:,:-1],data[train_indices][:,-1],\n",
    "                                              data[test_indices][:,:-1],data[test_indices][:,-1])))\n",
    "\n",
    "true_error = 0\n",
    "for i in range(5):\n",
    "    true_error += kfoldloocv_acc[i][0]/5\n",
    "\n",
    "print(kfoldloocv_acc)\n",
    "print(\"True error of all folds: \", true_error)       #true error is the average error of all folds"
   ]
  },
  {
   "attachments": {},
   "cell_type": "markdown",
   "metadata": {},
   "source": [
    "Performing leave one out cross validation on folds from 5-fold cross validation and showing in a table format"
   ]
  },
  {
   "cell_type": "code",
   "execution_count": 12,
   "metadata": {},
   "outputs": [
    {
     "name": "stdout",
     "output_type": "stream",
     "text": [
      "|.........|....................| ...................|\n",
      "| Fold  1 | 0.3064516129032 17 | 0.3064516129032 17 |\n",
      "|.........|....................| ...................|\n",
      "| Fold  2 | 0.3606557377049 13 | 0.3606557377049 13 |\n",
      "|.........|....................| ...................|\n",
      "| Fold  3 | 0.2786885245902 07 | 0.2786885245902 07 |\n",
      "|.........|....................| ...................|\n",
      "| Fold  4 | 0.1803278688525 05 | 0.1803278688525 05 |\n",
      "|.........|....................| ...................|\n",
      "| Fold  5 | 0.1967213114754 07 | 0.1967213114754 07 |\n",
      "|.........|....................| ...................|\n",
      "\n",
      "\n",
      "Mean error of folds:  0.26463311712839\n"
     ]
    }
   ],
   "source": [
    "kfcv_loo_acc = list()       #list storing accuracies with loo performed on folds\n",
    "\n",
    "for indice in all_indices:\n",
    "    kfcv_loo_acc.append(min(cross_vad_loo(data[indice][:,:-1], data[indice][:,-1])))\n",
    "\n",
    "#printing the values of accuracies of folds\n",
    "print(\"|.........|....................|\",\"...................|\")\n",
    "for i in range(0,10,2):\n",
    "    print(\"|\", \"Fold \", int(i/2+1), \"|\", kfcv_loo_acc[i][0], '{:02d}'.format(kfcv_loo_acc[i][1]), \n",
    "          \"|\", kfcv_loo_acc[i][0], '{:02d}'.format(kfcv_loo_acc[i][1]), \"|\")\n",
    "    print(\"|.........|....................|\",\"...................|\")\n",
    "\n",
    "mean_loo_5f = 0\n",
    "for i in range(0,10,2):\n",
    "    mean_loo_5f += (kfcv_loo_acc[i][0] + kfcv_loo_acc[i+1][0])/10\n",
    "\n",
    "print(\"\\n\\nMean error of folds: \", mean_loo_5f)       #true error is the average error of all folds\n"
   ]
  },
  {
   "cell_type": "code",
   "execution_count": null,
   "metadata": {},
   "outputs": [],
   "source": []
  }
 ],
 "metadata": {
  "kernelspec": {
   "display_name": "Python 3",
   "language": "python",
   "name": "python3"
  },
  "language_info": {
   "codemirror_mode": {
    "name": "ipython",
    "version": 3
   },
   "file_extension": ".py",
   "mimetype": "text/x-python",
   "name": "python",
   "nbconvert_exporter": "python",
   "pygments_lexer": "ipython3",
   "version": "3.10.6"
  },
  "orig_nbformat": 4,
  "vscode": {
   "interpreter": {
    "hash": "ffe7cf02dd77bb7558f0ae8504b3376abe6bea9ffdfd010ef3f96c2e8415e756"
   }
  }
 },
 "nbformat": 4,
 "nbformat_minor": 2
}
